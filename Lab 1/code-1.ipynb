{
 "cells": [
  {
   "cell_type": "markdown",
   "metadata": {},
   "source": [
    "_Question 1_\n",
    "\n",
    "---\n"
   ]
  },
  {
   "cell_type": "code",
   "execution_count": null,
   "metadata": {},
   "outputs": [],
   "source": [
    "teams = [\"India\", \"England\", \"NZ\", \"Aus\"]\n",
    "captains = [\"Kohli\", \"Root\", \"Williaamson\", \"Smith\"]\n",
    "\n",
    "print(list(zip(teams, captains)))\n",
    "print(dict(zip(teams, captains)))"
   ]
  },
  {
   "cell_type": "markdown",
   "metadata": {
    "tags": []
   },
   "source": [
    "### **Zip function**\n",
    "\n",
    "```\n",
    "a = (\"John\", \"Charles\", \"Mike\")\n",
    "b = (\"Jenny\", \"Christy\", \"Monica\")\n",
    "x = zip(a, b)\n",
    "\n",
    "print(tuple(x))\n",
    "```\n",
    "\n",
    "```\n",
    "# Output\n",
    "(('John', 'Jenny'), ('Charles', 'Christy'), ('Mike', 'Monica'))\n",
    "```\n"
   ]
  },
  {
   "cell_type": "code",
   "execution_count": null,
   "metadata": {},
   "outputs": [],
   "source": [
    "# Method 1\n",
    "\n",
    "combined_dict = dict(zip(teams, captains))\n",
    "new_dict = {value: key for key, value in combined_dict.items()}\n",
    "\n",
    "print(f\"combined_dict: {combined_dict}\")\n",
    "print(f\"new_dict: {new_dict}\")"
   ]
  },
  {
   "cell_type": "markdown",
   "metadata": {},
   "source": [
    "*Question 2*\n",
    "\n",
    "---\n"
   ]
  },
  {
   "cell_type": "code",
   "execution_count": null,
   "metadata": {},
   "outputs": [],
   "source": [
    "books = [\"textbooks\", \"exercise books\", \"story book\", \"drawing books\"]\n",
    "prices = [100, 60, 90, 70]\n",
    "quantities = [3, 2, 1, 4]\n",
    "\n",
    "new_list = list(zip(books, prices, quantities))\n",
    "\n",
    "for book, price, quantity in new_list:\n",
    "    print(f\"You bought {quantity} {book} for ${price * quantity}\")"
   ]
  },
  {
   "cell_type": "markdown",
   "metadata": {},
   "source": [
    "*Question 3*\n",
    "\n",
    "---"
   ]
  },
  {
   "cell_type": "code",
   "execution_count": null,
   "metadata": {},
   "outputs": [],
   "source": [
    "list1 = [2, 4, 6, 8, 10]\n",
    "print([x + 10 for x in list1])"
   ]
  },
  {
   "cell_type": "markdown",
   "metadata": {},
   "source": [
    "*Question 4*\n",
    "\n",
    "---"
   ]
  },
  {
   "cell_type": "code",
   "execution_count": null,
   "metadata": {},
   "outputs": [],
   "source": [
    "list1 = [10, 20, 30, 40]\n",
    "list2 = [\"Apples\", \"Mangoes\", \"Oranges\", \"Grapes\"]\n",
    "list2.reverse()\n",
    "\n",
    "new_list = list(zip(list1, list2))\n",
    "\n",
    "for quantity, fruit in new_list:\n",
    "    print(quantity, fruit) "
   ]
  },
  {
   "cell_type": "markdown",
   "metadata": {},
   "source": [
    "*Question 5*\n",
    "\n",
    "---"
   ]
  },
  {
   "cell_type": "code",
   "execution_count": null,
   "metadata": {},
   "outputs": [],
   "source": [
    "list1 = [\"a\", \"b\", [\"c\", [\"d\", \"e\", [\"f\", \"g\"], \"k\"], \"l\"], \"m\", \"n\"]\n",
    "sub_list = [\"h\", \"i\", \"j\"]\n",
    "\n",
    "# Answer 1\n",
    "list1[2][1][2].extend(sub_list)\n",
    "print(f\"Answer1: {list1}\")\n",
    "\n",
    "# Answer 2\n",
    "\n",
    "list1[2][1][2] = [\"f\", \"g\"]\n",
    "list1[2][1][2].append(sub_list)\n",
    "print(f\"Answer2: {list1}\")"
   ]
  },
  {
   "cell_type": "markdown",
   "metadata": {},
   "source": [
    "*Question 6*\n",
    "\n",
    "---"
   ]
  },
  {
   "cell_type": "code",
   "execution_count": null,
   "metadata": {},
   "outputs": [],
   "source": [
    "list1 = [10, 15, 20, 15, 32, 54, 15]\n",
    "\n",
    "while 15 in list1:\n",
    "    list1.remove(15)\n",
    "    \n",
    "print(list1)"
   ]
  },
  {
   "cell_type": "markdown",
   "metadata": {},
   "source": [
    "*Question 7*\n",
    "\n",
    "---"
   ]
  },
  {
   "cell_type": "code",
   "execution_count": null,
   "metadata": {},
   "outputs": [],
   "source": [
    "dict_1 = {'John': 15, 'Rick': 10, 'Misa': 12}\n",
    "dict_2 = {'Bonnie': 18, 'Rick': 20, 'Matt': 16}\n",
    "\n",
    "dict_1.update(dict_2)\n",
    "print(dict_1)"
   ]
  },
  {
   "cell_type": "markdown",
   "metadata": {},
   "source": [
    "*Question 8*\n",
    "\n",
    "---"
   ]
  },
  {
   "cell_type": "code",
   "execution_count": 1,
   "metadata": {},
   "outputs": [
    {
     "name": "stdout",
     "output_type": "stream",
     "text": [
      "{1: 1, 2: 2, 3: 3, 4: 0}\n"
     ]
    }
   ],
   "source": [
    "d = {0: 0, 1: 1, 2: 2, 3: 3}\n",
    "\n",
    "# Create a new entry with key 4 and the same value as key 0\n",
    "d[4] = d[0]\n",
    "\n",
    "# Remove the entry with key 0\n",
    "del d[0]\n",
    "\n",
    "print(d)"
   ]
  },
  {
   "cell_type": "markdown",
   "metadata": {},
   "source": [
    "*Question 9*\n",
    "\n",
    "---"
   ]
  },
  {
   "cell_type": "code",
   "execution_count": null,
   "metadata": {},
   "outputs": [],
   "source": [
    "country = [\"USA\", \"France\", \"India\"]\n",
    "capital = [\"Washington D.C.\", \"Paris\", \"New Delhi\"]\n",
    "\n",
    "print(dict(zip(country, capital)))"
   ]
  },
  {
   "cell_type": "markdown",
   "metadata": {},
   "source": [
    "*Question 10*\n",
    "\n",
    "---"
   ]
  },
  {
   "cell_type": "code",
   "execution_count": null,
   "metadata": {},
   "outputs": [],
   "source": [
    "my_dict = {\"Fruit\": \"Pear\",\n",
    "           \"Vegetable\": \"Carrot\",\n",
    "           \"Pet\": \"Cat\",\n",
    "           \"Book\": \"Moby dick\",\n",
    "           \"Crystal\": \"Amethyst\"}\n",
    "\n",
    "keys_to_remove = [\"Book\", \"Crystal\"]\n",
    "\n",
    "# Create a new dictionary without the specified keys\n",
    "new_dict = {key: value for key, value in my_dict.items() if key not in keys_to_remove}\n",
    "\n",
    "print(new_dict)"
   ]
  },
  {
   "cell_type": "markdown",
   "metadata": {},
   "source": [
    "*Question 11*\n",
    "\n",
    "---"
   ]
  },
  {
   "cell_type": "code",
   "execution_count": null,
   "metadata": {},
   "outputs": [],
   "source": [
    "sub_dict = {'math': 100, 'chem': 98, 'sci': 100, 'eng': 100}\n",
    "key_to_extract = ['math', 'chem', 'sci']\n",
    "\n",
    "new_dict = {sub: mark for sub,\n",
    "            mark in sub_dict.items() if sub in key_to_extract}\n",
    "\n",
    "print(new_dict)"
   ]
  },
  {
   "cell_type": "markdown",
   "metadata": {},
   "source": [
    "*Question 12*\n",
    "\n",
    "---"
   ]
  },
  {
   "cell_type": "code",
   "execution_count": null,
   "metadata": {},
   "outputs": [],
   "source": [
    "list1 = [12, 15, 32, 42, 55, 75, 122, 132, 150, 180, 200]\n",
    "\n",
    "list2 = [i for i in list1 if i % 5 == 0]\n",
    "print(list2)"
   ]
  },
  {
   "cell_type": "markdown",
   "metadata": {},
   "source": [
    "*Question 13*\n",
    "\n",
    "---"
   ]
  },
  {
   "cell_type": "code",
   "execution_count": null,
   "metadata": {},
   "outputs": [],
   "source": [
    "numbers = [12, 75, 150, 180, 145, 525, 50]\n",
    "\n",
    "for num in numbers:\n",
    "    if num % 5 == 0:\n",
    "        if num > 500:\n",
    "            break  # Stop the loop if the number is greater than 500\n",
    "        if num > 150:\n",
    "            continue  # Skip the number if it's greater than 150\n",
    "        print(num)"
   ]
  },
  {
   "cell_type": "markdown",
   "metadata": {},
   "source": [
    "*Question 14*\n",
    "\n",
    "---"
   ]
  },
  {
   "cell_type": "code",
   "execution_count": null,
   "metadata": {},
   "outputs": [],
   "source": [
    "input_string = \"@W3Resource.Com\"\n",
    "\n",
    "upper_count = 0\n",
    "lower_count = 0\n",
    "number_count = 0\n",
    "special_count = 0\n",
    "\n",
    "for char in input_string:\n",
    "    if char.isupper():\n",
    "        upper_count += 1\n",
    "    elif char.islower():\n",
    "        lower_count += 1\n",
    "    elif char.isdigit():\n",
    "        number_count += 1\n",
    "    else:\n",
    "        special_count += 1\n",
    "\n",
    "print(\"Upper case characters:\", upper_count)\n",
    "print(\"Lower case characters:\", lower_count)\n",
    "print(\"Number case:\", number_count)\n",
    "print(\"Special case characters:\", special_count)\n"
   ]
  },
  {
   "cell_type": "markdown",
   "metadata": {},
   "source": [
    "*Question 15*\n",
    "\n",
    "---"
   ]
  },
  {
   "cell_type": "code",
   "execution_count": null,
   "metadata": {},
   "outputs": [],
   "source": [
    "n = 5\n",
    "term = 2\n",
    "series_sum = 0\n",
    "\n",
    "for i in range(n):\n",
    "    series_sum += term\n",
    "    print(term, end='')\n",
    "    if i < n - 1:\n",
    "        print(' + ', end='')\n",
    "    term = term * 10 + 2\n",
    "\n",
    "print(\"\\nSum of the above series is:\", series_sum)"
   ]
  }
 ],
 "metadata": {
  "kernelspec": {
   "display_name": "ds-practice",
   "language": "python",
   "name": "python3"
  },
  "language_info": {
   "codemirror_mode": {
    "name": "ipython",
    "version": 3
   },
   "file_extension": ".py",
   "mimetype": "text/x-python",
   "name": "python",
   "nbconvert_exporter": "python",
   "pygments_lexer": "ipython3",
   "version": "3.11.4"
  },
  "orig_nbformat": 4
 },
 "nbformat": 4,
 "nbformat_minor": 2
}
