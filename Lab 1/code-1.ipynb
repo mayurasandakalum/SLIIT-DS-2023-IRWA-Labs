{
 "cells": [
  {
   "cell_type": "markdown",
   "metadata": {},
   "source": [
    "_Question 1_\n",
    "\n",
    "---\n"
   ]
  },
  {
   "cell_type": "code",
   "execution_count": null,
   "metadata": {},
   "outputs": [],
   "source": [
    "teams = [\"India\", \"England\", \"NZ\", \"Aus\"]\n",
    "captains = [\"Kohli\", \"Root\", \"Williaamson\", \"Smith\"]\n",
    "\n",
    "print(list(zip(teams, captains)))\n",
    "print(dict(zip(teams, captains)))"
   ]
  },
  {
   "cell_type": "markdown",
   "metadata": {
    "tags": []
   },
   "source": [
    "### **Zip function**\n",
    "\n",
    "```\n",
    "a = (\"John\", \"Charles\", \"Mike\")\n",
    "b = (\"Jenny\", \"Christy\", \"Monica\")\n",
    "x = zip(a, b)\n",
    "\n",
    "print(tuple(x))\n",
    "```\n",
    "\n",
    "```\n",
    "# Output\n",
    "(('John', 'Jenny'), ('Charles', 'Christy'), ('Mike', 'Monica'))\n",
    "```\n"
   ]
  },
  {
   "cell_type": "code",
   "execution_count": null,
   "metadata": {},
   "outputs": [],
   "source": [
    "# Method 1\n",
    "\n",
    "combined_dict = dict(zip(teams, captains))\n",
    "new_dict = {value: key for key, value in combined_dict.items()}\n",
    "\n",
    "print(f\"combined_dict: {combined_dict}\")\n",
    "print(f\"new_dict: {new_dict}\")"
   ]
  },
  {
   "cell_type": "markdown",
   "metadata": {},
   "source": [
    "_Question 2_\n",
    "\n",
    "---\n"
   ]
  },
  {
   "cell_type": "code",
   "execution_count": null,
   "metadata": {},
   "outputs": [],
   "source": [
    "books = [\"textbooks\", \"exercise books\", \"story book\", \"drawing books\"]\n",
    "prices = [100, 60, 90, 70]\n",
    "quantities = [3, 2, 1, 4]\n",
    "\n",
    "new_list = list(zip(books, prices, quantities))\n",
    "\n",
    "for book, price, quantity in new_list:\n",
    "    print(f\"You bought {quantity} {book} for ${price * quantity}\")"
   ]
  }
 ],
 "metadata": {
  "kernelspec": {
   "display_name": "ds-practice",
   "language": "python",
   "name": "python3"
  },
  "language_info": {
   "codemirror_mode": {
    "name": "ipython",
    "version": 3
   },
   "file_extension": ".py",
   "mimetype": "text/x-python",
   "name": "python",
   "nbconvert_exporter": "python",
   "pygments_lexer": "ipython3",
   "version": "3.11.4"
  },
  "orig_nbformat": 4
 },
 "nbformat": 4,
 "nbformat_minor": 2
}
