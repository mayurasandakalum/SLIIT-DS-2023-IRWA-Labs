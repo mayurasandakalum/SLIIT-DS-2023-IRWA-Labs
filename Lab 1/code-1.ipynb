{
 "cells": [
  {
   "cell_type": "code",
   "execution_count": 4,
   "metadata": {},
   "outputs": [
    {
     "name": "stdout",
     "output_type": "stream",
     "text": [
      "[('India', 'Kohli'), ('England', 'Root'), ('NZ', 'Williaamson'), ('Aus', 'Smith')]\n",
      "{'India': 'Kohli', 'England': 'Root', 'NZ': 'Williaamson', 'Aus': 'Smith'}\n"
     ]
    }
   ],
   "source": [
    "teams = [\"India\", \"England\", \"NZ\", \"Aus\"]\n",
    "captains = [\"Kohli\", \"Root\", \"Williaamson\", \"Smith\"]\n",
    "\n",
    "print(list(zip(teams, captains)))\n",
    "print(dict(zip(teams, captains)))"
   ]
  },
  {
   "cell_type": "markdown",
   "metadata": {
    "tags": []
   },
   "source": [
    "### **Zip function**\n",
    "\n",
    "```\n",
    "a = (\"John\", \"Charles\", \"Mike\")\n",
    "b = (\"Jenny\", \"Christy\", \"Monica\")\n",
    "x = zip(a, b)\n",
    "\n",
    "print(tuple(x))\n",
    "```\n",
    "\n",
    "```\n",
    "# Output\n",
    "(('John', 'Jenny'), ('Charles', 'Christy'), ('Mike', 'Monica'))\n",
    "```"
   ]
  },
  {
   "cell_type": "code",
   "execution_count": 9,
   "metadata": {},
   "outputs": [
    {
     "name": "stdout",
     "output_type": "stream",
     "text": [
      "<generator object <genexpr> at 0x000001D3AE3231D0>\n"
     ]
    }
   ],
   "source": [
    "# Method 1\n",
    "\n",
    "combined_dict = dict(zip(teams, captains))\n",
    "new_dict = {value: key for key, value in combined_dict.items()}\n",
    "\n",
    "print(key for key in combined_dict.items())"
   ]
  }
 ],
 "metadata": {
  "kernelspec": {
   "display_name": "ds-practice",
   "language": "python",
   "name": "python3"
  },
  "language_info": {
   "codemirror_mode": {
    "name": "ipython",
    "version": 3
   },
   "file_extension": ".py",
   "mimetype": "text/x-python",
   "name": "python",
   "nbconvert_exporter": "python",
   "pygments_lexer": "ipython3",
   "version": "3.11.4"
  },
  "orig_nbformat": 4
 },
 "nbformat": 4,
 "nbformat_minor": 2
}
