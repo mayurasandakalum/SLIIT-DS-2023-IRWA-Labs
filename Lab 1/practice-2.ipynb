{
 "cells": [
  {
   "cell_type": "markdown",
   "metadata": {},
   "source": [
    "_Question 01_\n"
   ]
  },
  {
   "cell_type": "code",
   "execution_count": 1,
   "metadata": {},
   "outputs": [],
   "source": [
    "teams = [\"India\", \"England\", \"NZ\", \"Aus\"]\n",
    "captains = [\"Kohli\", \"Root\", \"Williamson\", \"Smith\"]"
   ]
  },
  {
   "cell_type": "code",
   "execution_count": 2,
   "metadata": {},
   "outputs": [
    {
     "name": "stdout",
     "output_type": "stream",
     "text": [
      "Answer1: [('India', 'Kohli'), ('England', 'Root'), ('NZ', 'Williamson'), ('Aus', 'Smith')]\n",
      "Answer2: {'India': 'Kohli', 'England': 'Root', 'NZ': 'Williamson', 'Aus': 'Smith'}\n"
     ]
    }
   ],
   "source": [
    "print(f\"Answer1: {list(zip(teams, captains))}\")\n",
    "print(f\"Answer2: {dict(zip(teams, captains))}\")"
   ]
  },
  {
   "cell_type": "markdown",
   "metadata": {},
   "source": [
    "_Question 02_\n"
   ]
  },
  {
   "cell_type": "code",
   "execution_count": 3,
   "metadata": {},
   "outputs": [
    {
     "name": "stdout",
     "output_type": "stream",
     "text": [
      "You bought 3 textbooks for $300\n",
      "You bought 2 exercise books for $120\n",
      "You bought 1 story books for $90\n",
      "You bought 4 drawing books for $280\n"
     ]
    }
   ],
   "source": [
    "books = [\"textbooks\", \"exercise books\", \"story books\", \"drawing books\"]\n",
    "price = [100, 60, 90, 70]\n",
    "quantities = [3, 2, 1, 4]\n",
    "\n",
    "combined_list = list(zip(books, price, quantities))\n",
    "\n",
    "for book, price, qty in combined_list:\n",
    "    print(f\"You bought {qty} {book} for ${price * qty}\")"
   ]
  },
  {
   "cell_type": "markdown",
   "metadata": {},
   "source": [
    "_Question 03_\n"
   ]
  },
  {
   "cell_type": "code",
   "execution_count": 4,
   "metadata": {},
   "outputs": [
    {
     "name": "stdout",
     "output_type": "stream",
     "text": [
      "Answer: [12, 14, 16, 18, 20]\n"
     ]
    }
   ],
   "source": [
    "list1 = [2, 4, 6, 8, 10]\n",
    "list2 = [i + 10 for i in list1]\n",
    "\n",
    "print(f\"Answer: {list2}\")"
   ]
  },
  {
   "cell_type": "markdown",
   "metadata": {},
   "source": [
    "_Question 04_\n"
   ]
  },
  {
   "cell_type": "code",
   "execution_count": 5,
   "metadata": {},
   "outputs": [
    {
     "name": "stdout",
     "output_type": "stream",
     "text": [
      "10 Grapes\n",
      "20 Oranges\n",
      "30 Mangoes\n",
      "40 Apples\n"
     ]
    }
   ],
   "source": [
    "list1 = [10, 20, 30, 40]\n",
    "list2 = [\"Apples\", \"Mangoes\", \"Oranges\", \"Grapes\"]\n",
    "list2.reverse()\n",
    "\n",
    "list3 = list(zip(list1, list2))\n",
    "\n",
    "for qty, fruit in list3:\n",
    "    print(f\"{qty} {fruit}\")"
   ]
  },
  {
   "cell_type": "markdown",
   "metadata": {},
   "source": [
    "_Question 05_\n"
   ]
  },
  {
   "cell_type": "code",
   "execution_count": 6,
   "metadata": {},
   "outputs": [],
   "source": [
    "list1 = [\"a\", \"b\", [\"c\", [\"d\", \"e\", [\"f\", \"g\"], \"k\"], \"l\"], \"m\", \"n\"]\n",
    "sub_list = [\"h\", \"i\", \"j\"]"
   ]
  },
  {
   "cell_type": "markdown",
   "metadata": {},
   "source": [
    "**_To copy a Python list to another variable so that changes to the second list do not affect the first one, you can use one of the following methods:_**\n"
   ]
  },
  {
   "cell_type": "code",
   "execution_count": 7,
   "metadata": {},
   "outputs": [
    {
     "name": "stdout",
     "output_type": "stream",
     "text": [
      "['a', 'b', ['c', ['d', 'e', ['f', 'g'], 'k'], 'l'], 'm', 'n', 4]\n",
      "['a', 'b', ['c', ['d', 'e', ['f', 'g'], 'k'], 'l'], 'm', 'n', 3]\n"
     ]
    }
   ],
   "source": [
    "list2 = list1.copy()\n",
    "\n",
    "list1.append(4)\n",
    "list2.append(3)\n",
    "\n",
    "print(list1)\n",
    "print(list2)"
   ]
  },
  {
   "cell_type": "code",
   "execution_count": 8,
   "metadata": {},
   "outputs": [
    {
     "name": "stdout",
     "output_type": "stream",
     "text": [
      "['a', 'b', ['c', ['d', 'e', ['f', 'g'], 'k'], 'l'], 'm', 'n', 4, 4]\n",
      "['a', 'b', ['c', ['d', 'e', ['f', 'g'], 'k'], 'l'], 'm', 'n', 4, 3]\n"
     ]
    }
   ],
   "source": [
    "list2 = list(list1)\n",
    "\n",
    "list1.append(4)\n",
    "list2.append(3)\n",
    "\n",
    "print(list1)\n",
    "print(list2)"
   ]
  },
  {
   "cell_type": "code",
   "execution_count": 9,
   "metadata": {},
   "outputs": [
    {
     "name": "stdout",
     "output_type": "stream",
     "text": [
      "['a', 'b', ['c', ['d', 'e', ['f', 'g'], 'k'], 'l'], 'm', 'n', 4, 4, 4]\n",
      "['a', 'b', ['c', ['d', 'e', ['f', 'g'], 'k'], 'l'], 'm', 'n', 4, 4, 3]\n"
     ]
    }
   ],
   "source": [
    "list2 = list1[:]\n",
    "\n",
    "list1.append(4)\n",
    "list2.append(3)\n",
    "\n",
    "print(list1)\n",
    "print(list2)"
   ]
  },
  {
   "cell_type": "code",
   "execution_count": 10,
   "metadata": {},
   "outputs": [
    {
     "name": "stdout",
     "output_type": "stream",
     "text": [
      "['a', 'b', ['c', ['d', 'e', ['f', 'g'], 'k'], 'l'], 'm', 'n', 4, 4, 4]\n",
      "['a', 'b', ['c', ['d', 'e', ['f', 'g'], 'k'], 'l'], 'm', 'n', 4, 4, 4, 3]\n"
     ]
    }
   ],
   "source": [
    "import copy\n",
    "\n",
    "list2 = copy.deepcopy(list1)\n",
    "list2.append(3)\n",
    "\n",
    "print(list1)\n",
    "print(list2)"
   ]
  },
  {
   "cell_type": "code",
   "execution_count": 11,
   "metadata": {},
   "outputs": [
    {
     "data": {
      "text/plain": [
       "['a',\n",
       " 'b',\n",
       " ['c', ['d', 'e', ['f', 'g', 'h', 'i', 'j'], 'k'], 'l'],\n",
       " 'm',\n",
       " 'n',\n",
       " 4,\n",
       " 4,\n",
       " 4]"
      ]
     },
     "execution_count": 11,
     "metadata": {},
     "output_type": "execute_result"
    }
   ],
   "source": [
    "list1_temp = list1\n",
    "list2 = list1_temp[2][1][2] + sub_list\n",
    "list1_temp[2][1][2] = list2\n",
    "list1_temp"
   ]
  },
  {
   "cell_type": "code",
   "execution_count": 12,
   "metadata": {},
   "outputs": [
    {
     "data": {
      "text/plain": [
       "['a',\n",
       " 'b',\n",
       " ['c', ['d', 'e', ['f', 'g', 'h', 'i', 'j'], 'k'], 'l'],\n",
       " 'm',\n",
       " 'n',\n",
       " 4,\n",
       " 4,\n",
       " 4]"
      ]
     },
     "execution_count": 12,
     "metadata": {},
     "output_type": "execute_result"
    }
   ],
   "source": [
    "list1"
   ]
  },
  {
   "cell_type": "markdown",
   "metadata": {},
   "source": [
    "_Question 06_\n"
   ]
  },
  {
   "cell_type": "code",
   "execution_count": 13,
   "metadata": {},
   "outputs": [
    {
     "data": {
      "text/plain": [
       "1"
      ]
     },
     "execution_count": 13,
     "metadata": {},
     "output_type": "execute_result"
    }
   ],
   "source": [
    "list1 = [10, 15, 20, 15, 32, 54, 15]\n",
    "list1.index(15)"
   ]
  },
  {
   "cell_type": "code",
   "execution_count": 14,
   "metadata": {},
   "outputs": [
    {
     "name": "stdout",
     "output_type": "stream",
     "text": [
      "Answer = [10, 20, 32, 54]\n"
     ]
    }
   ],
   "source": [
    "for i in list1:\n",
    "    if i == 15:\n",
    "        list1.pop(list1.index(i))\n",
    "\n",
    "print(f\"Answer = {list1}\")"
   ]
  },
  {
   "cell_type": "markdown",
   "metadata": {},
   "source": [
    "*Question 07*"
   ]
  },
  {
   "cell_type": "code",
   "execution_count": 16,
   "metadata": {},
   "outputs": [],
   "source": [
    "dict_1 = {'John': 15, 'Rick': 10, 'Misa': 12}\n",
    "dict_2 = {'Bonnie': 18, 'Rick': 20, 'Matt': 16}"
   ]
  },
  {
   "cell_type": "code",
   "execution_count": 17,
   "metadata": {},
   "outputs": [
    {
     "data": {
      "text/plain": [
       "{'John': 15, 'Rick': 20, 'Misa': 12, 'Bonnie': 18, 'Matt': 16}"
      ]
     },
     "execution_count": 17,
     "metadata": {},
     "output_type": "execute_result"
    }
   ],
   "source": [
    "dict_1.update(dict_2)\n",
    "dict_1"
   ]
  },
  {
   "cell_type": "code",
   "execution_count": 22,
   "metadata": {},
   "outputs": [
    {
     "data": {
      "text/plain": [
       "{1: 1, 2: 2, 3: 3, 4: 0}"
      ]
     },
     "execution_count": 22,
     "metadata": {},
     "output_type": "execute_result"
    }
   ],
   "source": [
    "d = {0: 0, 1: 1, 2: 2, 3: 3}\n",
    "\n",
    "d[4] = d[0]\n",
    "del d[0]\n",
    "\n",
    "d"
   ]
  }
 ],
 "metadata": {
  "kernelspec": {
   "display_name": "ds-practice",
   "language": "python",
   "name": "python3"
  },
  "language_info": {
   "codemirror_mode": {
    "name": "ipython",
    "version": 3
   },
   "file_extension": ".py",
   "mimetype": "text/x-python",
   "name": "python",
   "nbconvert_exporter": "python",
   "pygments_lexer": "ipython3",
   "version": "3.11.4"
  }
 },
 "nbformat": 4,
 "nbformat_minor": 2
}
