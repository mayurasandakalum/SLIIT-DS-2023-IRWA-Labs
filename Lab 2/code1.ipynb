{
 "cells": [
  {
   "cell_type": "code",
   "execution_count": 39,
   "metadata": {},
   "outputs": [
    {
     "data": {
      "text/plain": [
       "{'code1.ipynb': 'd:\\\\Documents\\\\My Documents\\\\SLIIT\\\\Year 3\\\\1st Semester\\\\Study Materials\\\\IRWA\\\\Labs\\\\Lab 2\\\\code1.ipynb',\n",
       " 'IRWA_Lab_02.ipynb': 'd:\\\\Documents\\\\My Documents\\\\SLIIT\\\\Year 3\\\\1st Semester\\\\Study Materials\\\\IRWA\\\\Labs\\\\Lab 2\\\\IRWA_Lab_02.ipynb',\n",
       " 'IRWA_Lab_2_Part_1.ipynb': 'd:\\\\Documents\\\\My Documents\\\\SLIIT\\\\Year 3\\\\1st Semester\\\\Study Materials\\\\IRWA\\\\Labs\\\\Lab 2\\\\IRWA_Lab_2_Part_1.ipynb',\n",
       " 'IRWA_P2.pdf': 'd:\\\\Documents\\\\My Documents\\\\SLIIT\\\\Year 3\\\\1st Semester\\\\Study Materials\\\\IRWA\\\\Labs\\\\Lab 2\\\\IRWA_P2.pdf',\n",
       " 'Doc1.txt': 'd:\\\\Documents\\\\My Documents\\\\SLIIT\\\\Year 3\\\\1st Semester\\\\Study Materials\\\\IRWA\\\\Labs\\\\Lab 2\\\\inverted\\\\Doc1.txt',\n",
       " 'Doc2.txt': 'd:\\\\Documents\\\\My Documents\\\\SLIIT\\\\Year 3\\\\1st Semester\\\\Study Materials\\\\IRWA\\\\Labs\\\\Lab 2\\\\inverted\\\\Doc2.txt',\n",
       " 'Doc3.txt': 'd:\\\\Documents\\\\My Documents\\\\SLIIT\\\\Year 3\\\\1st Semester\\\\Study Materials\\\\IRWA\\\\Labs\\\\Lab 2\\\\inverted\\\\Doc3.txt',\n",
       " 'Doc4.txt': 'd:\\\\Documents\\\\My Documents\\\\SLIIT\\\\Year 3\\\\1st Semester\\\\Study Materials\\\\IRWA\\\\Labs\\\\Lab 2\\\\inverted\\\\Doc4.txt',\n",
       " 'doc_1.txt': 'd:\\\\Documents\\\\My Documents\\\\SLIIT\\\\Year 3\\\\1st Semester\\\\Study Materials\\\\IRWA\\\\Labs\\\\Lab 2\\\\positional\\\\doc_1.txt',\n",
       " 'doc_2.txt': 'd:\\\\Documents\\\\My Documents\\\\SLIIT\\\\Year 3\\\\1st Semester\\\\Study Materials\\\\IRWA\\\\Labs\\\\Lab 2\\\\positional\\\\doc_2.txt',\n",
       " 'doc_3.txt': 'd:\\\\Documents\\\\My Documents\\\\SLIIT\\\\Year 3\\\\1st Semester\\\\Study Materials\\\\IRWA\\\\Labs\\\\Lab 2\\\\positional\\\\doc_3.txt'}"
      ]
     },
     "execution_count": 39,
     "metadata": {},
     "output_type": "execute_result"
    }
   ],
   "source": [
    "import os\n",
    "\n",
    "cwd = os.getcwd()\n",
    "file_list = {}\n",
    "\n",
    "for root, dirs, files in os.walk(cwd):\n",
    "    for file in files:\n",
    "        file_list[file] = os.path.join(root, file)\n",
    "\n",
    "file_list"
   ]
  },
  {
   "cell_type": "code",
   "execution_count": 48,
   "metadata": {},
   "outputs": [
    {
     "data": {
      "text/plain": [
       "{'Doc1.txt': 'breakthrough drug for schizophrenia',\n",
       " 'Doc2.txt': 'new schizophrenia drug',\n",
       " 'Doc3.txt': 'new approach for treatment of schizophrenia',\n",
       " 'Doc4.txt': 'new hopes for schizophrenia patients'}"
      ]
     },
     "execution_count": 48,
     "metadata": {},
     "output_type": "execute_result"
    }
   ],
   "source": [
    "docs = {}\n",
    "\n",
    "for doc, file_path in file_list.items():\n",
    "    if \"inverted\" in file_path:\n",
    "        with open(file_path) as f:\n",
    "            docs[doc] = f.readline()\n",
    "\n",
    "docs"
   ]
  },
  {
   "cell_type": "code",
   "execution_count": 54,
   "metadata": {},
   "outputs": [
    {
     "name": "stdout",
     "output_type": "stream",
     "text": [
      "{'breakthrough': ['Doc1.txt'], 'drug': ['Doc1.txt', 'Doc2.txt'], 'for': ['Doc1.txt', 'Doc3.txt', 'Doc4.txt'], 'schizophrenia': ['Doc1.txt', 'Doc2.txt', 'Doc3.txt', 'Doc4.txt'], 'new': ['Doc2.txt', 'Doc3.txt', 'Doc4.txt'], 'approach': ['Doc3.txt'], 'treatment': ['Doc3.txt'], 'of': ['Doc3.txt'], 'hopes': ['Doc4.txt'], 'patients': ['Doc4.txt']}\n"
     ]
    }
   ],
   "source": [
    "def get_inverted_index(docs):\n",
    "    inverted_index = dict()\n",
    "    terms = list()\n",
    "    \n",
    "    for doc, txt in docs.items():\n",
    "        for term in str(txt).split():\n",
    "            if term not in terms:\n",
    "                terms.append(term)\n",
    "    \n",
    "    for term in terms:\n",
    "        inverted_index[term] = []\n",
    "        for doc, txt in docs.items():\n",
    "            if term in txt:\n",
    "                inverted_index[term].append(doc)\n",
    "\n",
    "    \n",
    "    print(inverted_index)\n",
    "\n",
    "get_inverted_index(docs)"
   ]
  },
  {
   "cell_type": "code",
   "execution_count": null,
   "metadata": {},
   "outputs": [],
   "source": [
    "a = {1, 2, 3, 4, 5}\n",
    "b = {3, 4, 5, 6, 7}\n",
    "\n"
   ]
  }
 ],
 "metadata": {
  "kernelspec": {
   "display_name": "tensorflow",
   "language": "python",
   "name": "python3"
  },
  "language_info": {
   "codemirror_mode": {
    "name": "ipython",
    "version": 3
   },
   "file_extension": ".py",
   "mimetype": "text/x-python",
   "name": "python",
   "nbconvert_exporter": "python",
   "pygments_lexer": "ipython3",
   "version": "3.11.4"
  },
  "orig_nbformat": 4
 },
 "nbformat": 4,
 "nbformat_minor": 2
}
