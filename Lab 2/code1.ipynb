{
 "cells": [
  {
   "cell_type": "code",
   "execution_count": 19,
   "metadata": {},
   "outputs": [
    {
     "data": {
      "text/plain": [
       "{'code1.ipynb': 'd:\\\\Documents\\\\My Documents\\\\SLIIT\\\\Year 3\\\\1st Semester\\\\Study Materials\\\\IRWA\\\\Labs\\\\Lab 2\\\\code1.ipynb',\n",
       " 'IRWA_Lab_02.ipynb': 'd:\\\\Documents\\\\My Documents\\\\SLIIT\\\\Year 3\\\\1st Semester\\\\Study Materials\\\\IRWA\\\\Labs\\\\Lab 2\\\\IRWA_Lab_02.ipynb',\n",
       " 'IRWA_Lab_2_Part_1.ipynb': 'd:\\\\Documents\\\\My Documents\\\\SLIIT\\\\Year 3\\\\1st Semester\\\\Study Materials\\\\IRWA\\\\Labs\\\\Lab 2\\\\IRWA_Lab_2_Part_1.ipynb',\n",
       " 'IRWA_P2.pdf': 'd:\\\\Documents\\\\My Documents\\\\SLIIT\\\\Year 3\\\\1st Semester\\\\Study Materials\\\\IRWA\\\\Labs\\\\Lab 2\\\\IRWA_P2.pdf',\n",
       " 'Doc1.txt': 'd:\\\\Documents\\\\My Documents\\\\SLIIT\\\\Year 3\\\\1st Semester\\\\Study Materials\\\\IRWA\\\\Labs\\\\Lab 2\\\\inverted\\\\Doc1.txt',\n",
       " 'Doc2.txt': 'd:\\\\Documents\\\\My Documents\\\\SLIIT\\\\Year 3\\\\1st Semester\\\\Study Materials\\\\IRWA\\\\Labs\\\\Lab 2\\\\inverted\\\\Doc2.txt',\n",
       " 'Doc3.txt': 'd:\\\\Documents\\\\My Documents\\\\SLIIT\\\\Year 3\\\\1st Semester\\\\Study Materials\\\\IRWA\\\\Labs\\\\Lab 2\\\\inverted\\\\Doc3.txt',\n",
       " 'Doc4.txt': 'd:\\\\Documents\\\\My Documents\\\\SLIIT\\\\Year 3\\\\1st Semester\\\\Study Materials\\\\IRWA\\\\Labs\\\\Lab 2\\\\inverted\\\\Doc4.txt',\n",
       " 'doc_1.txt': 'd:\\\\Documents\\\\My Documents\\\\SLIIT\\\\Year 3\\\\1st Semester\\\\Study Materials\\\\IRWA\\\\Labs\\\\Lab 2\\\\positional\\\\doc_1.txt',\n",
       " 'doc_2.txt': 'd:\\\\Documents\\\\My Documents\\\\SLIIT\\\\Year 3\\\\1st Semester\\\\Study Materials\\\\IRWA\\\\Labs\\\\Lab 2\\\\positional\\\\doc_2.txt',\n",
       " 'doc_3.txt': 'd:\\\\Documents\\\\My Documents\\\\SLIIT\\\\Year 3\\\\1st Semester\\\\Study Materials\\\\IRWA\\\\Labs\\\\Lab 2\\\\positional\\\\doc_3.txt'}"
      ]
     },
     "execution_count": 19,
     "metadata": {},
     "output_type": "execute_result"
    }
   ],
   "source": [
    "import os\n",
    "\n",
    "cwd = os.getcwd()\n",
    "file_list = {}\n",
    "\n",
    "for root, dirs, files in os.walk(cwd):\n",
    "    for file in files:\n",
    "        file_list[file] = os.path.join(root, file)\n",
    "\n",
    "file_list"
   ]
  },
  {
   "cell_type": "code",
   "execution_count": 20,
   "metadata": {},
   "outputs": [
    {
     "data": {
      "text/plain": [
       "{'Doc1.txt': 'breakthrough drug for schizophrenia',\n",
       " 'Doc2.txt': 'new schizophrenia drug',\n",
       " 'Doc3.txt': 'new approach for treatment of schizophrenia',\n",
       " 'Doc4.txt': 'new hopes for schizophrenia patients'}"
      ]
     },
     "execution_count": 20,
     "metadata": {},
     "output_type": "execute_result"
    }
   ],
   "source": [
    "docs = {}\n",
    "\n",
    "for doc, file_path in file_list.items():\n",
    "    if \"inverted\" in file_path:\n",
    "        with open(file_path) as f:\n",
    "            docs[doc] = f.readline()\n",
    "\n",
    "docs"
   ]
  },
  {
   "cell_type": "code",
   "execution_count": 28,
   "metadata": {},
   "outputs": [
    {
     "data": {
      "text/plain": [
       "{'breakthrough': ['Doc1.txt'],\n",
       " 'drug': ['Doc1.txt', 'Doc2.txt'],\n",
       " 'for': ['Doc1.txt', 'Doc3.txt', 'Doc4.txt'],\n",
       " 'schizophrenia': ['Doc1.txt', 'Doc2.txt', 'Doc3.txt', 'Doc4.txt'],\n",
       " 'new': ['Doc2.txt', 'Doc3.txt', 'Doc4.txt'],\n",
       " 'approach': ['Doc3.txt'],\n",
       " 'treatment': ['Doc3.txt'],\n",
       " 'of': ['Doc3.txt'],\n",
       " 'hopes': ['Doc4.txt'],\n",
       " 'patients': ['Doc4.txt']}"
      ]
     },
     "execution_count": 28,
     "metadata": {},
     "output_type": "execute_result"
    }
   ],
   "source": [
    "def get_inverted_index(docs):\n",
    "    inverted_index = dict()\n",
    "    terms = list()\n",
    "    \n",
    "    for doc, txt in docs.items():\n",
    "        for term in str(txt).split():\n",
    "            if term not in terms:\n",
    "                terms.append(term)\n",
    "    \n",
    "    for term in terms:\n",
    "        inverted_index[term] = []\n",
    "        for doc, txt in docs.items():\n",
    "            if term in txt:\n",
    "                inverted_index[term].append(doc)\n",
    "\n",
    "    \n",
    "    return inverted_index\n",
    "\n",
    "get_inverted_index(docs)"
   ]
  },
  {
   "cell_type": "code",
   "execution_count": 22,
   "metadata": {},
   "outputs": [
    {
     "name": "stdout",
     "output_type": "stream",
     "text": [
      "False\n",
      "False\n",
      "False\n",
      "False\n"
     ]
    }
   ],
   "source": [
    "a = {1, 2, 3, 4, 5}\n",
    "b = {3, 4, 5, 6, 7, 8}\n",
    "\n",
    "# is disjoint\n",
    "print(a.isdisjoint(b))\n",
    "\n",
    "# is subset\n",
    "print(a.issubset(b))\n",
    "\n",
    "# a < b\n",
    "print(a < b)\n",
    "\n",
    "# a > b\n",
    "print(a > b)"
   ]
  },
  {
   "cell_type": "code",
   "execution_count": 23,
   "metadata": {},
   "outputs": [
    {
     "name": "stdout",
     "output_type": "stream",
     "text": [
      "a - b: {5}\n"
     ]
    }
   ],
   "source": [
    "a = {1, 2, 3, 5}\n",
    "b = {1, 2, 3, 4}\n",
    "\n",
    "print(\"a - b:\", a.difference(b))\n"
   ]
  },
  {
   "cell_type": "code",
   "execution_count": 24,
   "metadata": {},
   "outputs": [],
   "source": [
    "def and_query(list1: list, list2: list):\n",
    "    return set(list1).intersection(set(list2))\n",
    "\n",
    "def or_query(list1: list, list2: list):\n",
    "    return set(list1).union(set(list2))"
   ]
  },
  {
   "cell_type": "code",
   "execution_count": 34,
   "metadata": {},
   "outputs": [
    {
     "data": {
      "text/plain": [
       "{'breakthrough': ['Doc1.txt'],\n",
       " 'drug': ['Doc1.txt', 'Doc2.txt'],\n",
       " 'for': ['Doc1.txt', 'Doc3.txt', 'Doc4.txt'],\n",
       " 'schizophrenia': ['Doc1.txt', 'Doc2.txt', 'Doc3.txt', 'Doc4.txt'],\n",
       " 'new': ['Doc2.txt', 'Doc3.txt', 'Doc4.txt'],\n",
       " 'approach': ['Doc3.txt'],\n",
       " 'treatment': ['Doc3.txt'],\n",
       " 'of': ['Doc3.txt'],\n",
       " 'hopes': ['Doc4.txt'],\n",
       " 'patients': ['Doc4.txt']}"
      ]
     },
     "execution_count": 34,
     "metadata": {},
     "output_type": "execute_result"
    }
   ],
   "source": [
    "index_dict = get_inverted_index(docs)\n",
    "index_dict"
   ]
  },
  {
   "cell_type": "code",
   "execution_count": 39,
   "metadata": {},
   "outputs": [
    {
     "name": "stdout",
     "output_type": "stream",
     "text": [
      "{'Doc1.txt', 'Doc2.txt'}\n"
     ]
    }
   ],
   "source": [
    "schizophrenia_docs = []\n",
    "drug_docs = []\n",
    "\n",
    "for term, lists in index_dict.items():\n",
    "    if term == 'schizophrenia':\n",
    "        schizophrenia_docs = lists[:]\n",
    "    if term == 'drug':\n",
    "        drug_docs = lists[:]\n",
    "\n",
    "print(and_query(schizophrenia_docs, drug_docs))"
   ]
  },
  {
   "cell_type": "code",
   "execution_count": 41,
   "metadata": {},
   "outputs": [
    {
     "ename": "ModuleNotFoundError",
     "evalue": "No module named 'nltk'",
     "output_type": "error",
     "traceback": [
      "\u001b[1;31m---------------------------------------------------------------------------\u001b[0m",
      "\u001b[1;31mModuleNotFoundError\u001b[0m                       Traceback (most recent call last)",
      "\u001b[1;32md:\\Documents\\My Documents\\SLIIT\\Year 3\\1st Semester\\Study Materials\\IRWA\\Labs\\Lab 2\\code1.ipynb Cell 9\u001b[0m line \u001b[0;36m1\n\u001b[1;32m----> <a href='vscode-notebook-cell:/d%3A/Documents/My%20Documents/SLIIT/Year%203/1st%20Semester/Study%20Materials/IRWA/Labs/Lab%202/code1.ipynb#X11sZmlsZQ%3D%3D?line=0'>1</a>\u001b[0m \u001b[39mfrom\u001b[39;00m \u001b[39mnltk\u001b[39;00m\u001b[39m.\u001b[39;00m\u001b[39mcorpus\u001b[39;00m \u001b[39mimport\u001b[39;00m stopwords\n\u001b[0;32m      <a href='vscode-notebook-cell:/d%3A/Documents/My%20Documents/SLIIT/Year%203/1st%20Semester/Study%20Materials/IRWA/Labs/Lab%202/code1.ipynb#X11sZmlsZQ%3D%3D?line=1'>2</a>\u001b[0m \u001b[39mfrom\u001b[39;00m \u001b[39mnltk\u001b[39;00m\u001b[39m.\u001b[39;00m\u001b[39mtokenize\u001b[39;00m  \u001b[39mimport\u001b[39;00m  word_tokenize\n",
      "\u001b[1;31mModuleNotFoundError\u001b[0m: No module named 'nltk'"
     ]
    }
   ],
   "source": [
    "from nltk.corpus import stopwords\n",
    "from nltk.tokenize  import  word_tokenize"
   ]
  }
 ],
 "metadata": {
  "kernelspec": {
   "display_name": "tensorflow",
   "language": "python",
   "name": "python3"
  },
  "language_info": {
   "codemirror_mode": {
    "name": "ipython",
    "version": 3
   },
   "file_extension": ".py",
   "mimetype": "text/x-python",
   "name": "python",
   "nbconvert_exporter": "python",
   "pygments_lexer": "ipython3",
   "version": "3.11.4"
  },
  "orig_nbformat": 4
 },
 "nbformat": 4,
 "nbformat_minor": 2
}
