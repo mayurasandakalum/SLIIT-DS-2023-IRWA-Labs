{
  "cells": [
    {
      "cell_type": "code",
      "execution_count": null,
      "metadata": {
        "id": "nRmOa1h2xkXr"
      },
      "outputs": [],
      "source": [
        "\n",
        "from google.colab  import drive"
      ]
    },
    {
      "cell_type": "code",
      "execution_count": null,
      "metadata": {
        "colab": {
          "base_uri": "https://localhost:8080/"
        },
        "id": "e1f6mJYM7fPp",
        "outputId": "6bcbb96b-8e93-4cd8-e51b-bd6ce942d6b4"
      },
      "outputs": [
        {
          "name": "stdout",
          "output_type": "stream",
          "text": [
            "Mounted at /content/drive\n"
          ]
        }
      ],
      "source": [
        "drive.mount('/content/drive')"
      ]
    },
    {
      "cell_type": "code",
      "execution_count": null,
      "metadata": {
        "colab": {
          "base_uri": "https://localhost:8080/"
        },
        "id": "4WkGOcZG7tvT",
        "outputId": "e360ff10-5119-4a4f-c11a-b3571ab2fbf6"
      },
      "outputs": [
        {
          "name": "stdout",
          "output_type": "stream",
          "text": [
            "/content/drive/My Drive/IRWA_PRACTICAL/inverted\n"
          ]
        }
      ],
      "source": [
        "%cd /content/drive/My Drive/IRWA_PRACTICAL/inverted/"
      ]
    },
    {
      "cell_type": "code",
      "execution_count": 1,
      "metadata": {
        "id": "_KNiEMN__Y2E"
      },
      "outputs": [],
      "source": [
        "import os\n",
        "cwd=os.getcwd()\n"
      ]
    },
    {
      "cell_type": "code",
      "execution_count": null,
      "metadata": {
        "colab": {
          "base_uri": "https://localhost:8080/"
        },
        "id": "56KNVDdLBanC",
        "outputId": "983a1edf-0702-4333-8d0c-bc5a9c568649"
      },
      "outputs": [
        {
          "name": "stdout",
          "output_type": "stream",
          "text": [
            "['Doc1.txt', 'Doc2.txt', 'Doc3.txt', 'Doc4.txt']\n"
          ]
        }
      ],
      "source": [
        "fileList=os.listdir(cwd)\n",
        "print(fileList)"
      ]
    },
    {
      "cell_type": "code",
      "execution_count": null,
      "metadata": {
        "colab": {
          "base_uri": "https://localhost:8080/"
        },
        "id": "-hbfdlMlCPY9",
        "outputId": "c484f617-4a2d-4189-fab0-51b0dd86a7a4"
      },
      "outputs": [
        {
          "name": "stdout",
          "output_type": "stream",
          "text": [
            "['breakthrough', 'drug', 'for', 'schizophrenia']\n"
          ]
        }
      ],
      "source": [
        "with  open (\"/content/drive/My Drive/IRWA_PRACTICAL/inverted/Doc1.txt\",\"r\") as d1:\n",
        "  print(d1.read().split())"
      ]
    },
    {
      "cell_type": "code",
      "execution_count": null,
      "metadata": {
        "colab": {
          "base_uri": "https://localhost:8080/"
        },
        "id": "31MFnYPnDPeY",
        "outputId": "5f7782e3-4009-4dda-f8df-2c0ee6a053a7"
      },
      "outputs": [
        {
          "name": "stdout",
          "output_type": "stream",
          "text": [
            "{'breakthrough': ['Doc1.txt'], 'drug': ['Doc1.txt', 'Doc2.txt'], 'for': ['Doc1.txt', 'Doc3.txt', 'Doc4.txt'], 'schizophrenia': ['Doc1.txt', 'Doc2.txt', 'Doc3.txt', 'Doc4.txt'], 'new': ['Doc2.txt', 'Doc3.txt', 'Doc4.txt'], 'approach': ['Doc3.txt'], 'treatment': ['Doc3.txt'], 'of': ['Doc3.txt'], 'hopes': ['Doc4.txt'], 'patients': ['Doc4.txt']}\n"
          ]
        }
      ],
      "source": [
        "wordDict=dict()\n",
        "for  file in fileList:\n",
        "  with open(\"/content/drive/My Drive/IRWA_PRACTICAL/inverted/\"+file,\"r\")as f:\n",
        "    words=f.read().lower().split()\n",
        "    for word in words:\n",
        "      if word not in wordDict:\n",
        "        wordDict[word]=[file]\n",
        "      else:\n",
        "        wordDict[word]+=[file]\n",
        "print(wordDict)"
      ]
    },
    {
      "cell_type": "code",
      "execution_count": null,
      "metadata": {
        "id": "Oy4JF92MFMkt"
      },
      "outputs": [],
      "source": [
        "def invertedIndex():\n",
        "  wordDict=dict()\n",
        "  for file in fileList:\n",
        "    with open(cwd+\"/\"+file,\"r\")  as f:\n",
        "      words=f.read().lower().split()\n",
        "      for word  in words:\n",
        "        if word not in wordDict:\n",
        "          wordDict[word]=[file]\n",
        "        else:\n",
        "          wordDict[word]+=[file]\n",
        "  return  wordDict\n"
      ]
    },
    {
      "cell_type": "code",
      "execution_count": null,
      "metadata": {
        "colab": {
          "base_uri": "https://localhost:8080/"
        },
        "id": "3gsoqCXYGCDH",
        "outputId": "a6f1e90b-5c50-4efa-d2ba-b8185a1c8cb7"
      },
      "outputs": [
        {
          "data": {
            "text/plain": [
              "{'breakthrough': ['Doc1.txt'],\n",
              " 'drug': ['Doc1.txt', 'Doc2.txt'],\n",
              " 'for': ['Doc1.txt', 'Doc3.txt', 'Doc4.txt'],\n",
              " 'schizophrenia': ['Doc1.txt', 'Doc2.txt', 'Doc3.txt', 'Doc4.txt'],\n",
              " 'new': ['Doc2.txt', 'Doc3.txt', 'Doc4.txt'],\n",
              " 'approach': ['Doc3.txt'],\n",
              " 'treatment': ['Doc3.txt'],\n",
              " 'of': ['Doc3.txt'],\n",
              " 'hopes': ['Doc4.txt'],\n",
              " 'patients': ['Doc4.txt']}"
            ]
          },
          "execution_count": 16,
          "metadata": {},
          "output_type": "execute_result"
        }
      ],
      "source": [
        "invertedIndex()"
      ]
    },
    {
      "cell_type": "code",
      "execution_count": null,
      "metadata": {
        "id": "19WCP51nGLaz"
      },
      "outputs": [],
      "source": [
        "L=[10,20,30,40,100,200,400]"
      ]
    },
    {
      "cell_type": "code",
      "execution_count": null,
      "metadata": {
        "colab": {
          "base_uri": "https://localhost:8080/"
        },
        "id": "P83D52XBGSlJ",
        "outputId": "90fc9d71-1ff6-4351-e6c5-ea4f33349b25"
      },
      "outputs": [
        {
          "data": {
            "text/plain": [
              "[10, 20, 30, 40, 100, 200, 400, 1, 2, 3]"
            ]
          },
          "execution_count": 18,
          "metadata": {},
          "output_type": "execute_result"
        }
      ],
      "source": [
        "L+[1,2,3]"
      ]
    },
    {
      "cell_type": "code",
      "execution_count": null,
      "metadata": {
        "colab": {
          "base_uri": "https://localhost:8080/"
        },
        "id": "qa8hYuuEGXU7",
        "outputId": "0e5d813d-deb4-4d10-f11f-eb76a439a138"
      },
      "outputs": [
        {
          "data": {
            "text/plain": [
              "{10, 20, 30, 40, 100, 200, 400}"
            ]
          },
          "execution_count": 19,
          "metadata": {},
          "output_type": "execute_result"
        }
      ],
      "source": [
        "set(L)"
      ]
    },
    {
      "cell_type": "code",
      "execution_count": null,
      "metadata": {
        "id": "MDvaGtHAGa3y"
      },
      "outputs": [],
      "source": [
        "a={1,2,3,4,5}\n",
        "b={3,4,5,6,8}\n"
      ]
    },
    {
      "cell_type": "code",
      "execution_count": null,
      "metadata": {
        "colab": {
          "base_uri": "https://localhost:8080/"
        },
        "id": "SFJyFEU4Giuw",
        "outputId": "18a34ffe-e522-4dc8-b692-906c130fd3f7"
      },
      "outputs": [
        {
          "data": {
            "text/plain": [
              "{3, 4, 5}"
            ]
          },
          "execution_count": 21,
          "metadata": {},
          "output_type": "execute_result"
        }
      ],
      "source": [
        "a.intersection(b)"
      ]
    },
    {
      "cell_type": "code",
      "execution_count": null,
      "metadata": {
        "id": "7pwzyVOxGsig"
      },
      "outputs": [],
      "source": []
    },
    {
      "cell_type": "code",
      "execution_count": null,
      "metadata": {
        "id": "hC692uiWHteZ"
      },
      "outputs": [],
      "source": [
        "def AND_op(list1,list2):\n",
        "  return set(list1).intersection(set(list2))\n",
        "IndexDict=invertedIndex()\n"
      ]
    },
    {
      "cell_type": "code",
      "execution_count": null,
      "metadata": {
        "id": "2Z6vGrh6G3u7"
      },
      "outputs": [],
      "source": [
        "for key in IndexDict:\n",
        "  if key=='schizophrenia':\n",
        "    List1=IndexDict[key]\n",
        "  if key=='drug':\n",
        "    List2=IndexDict[key]\n"
      ]
    },
    {
      "cell_type": "code",
      "execution_count": null,
      "metadata": {
        "colab": {
          "base_uri": "https://localhost:8080/"
        },
        "id": "Hop65qUuHR5a",
        "outputId": "a2489629-1cab-47f2-8785-abc90dd5eab3"
      },
      "outputs": [
        {
          "name": "stdout",
          "output_type": "stream",
          "text": [
            "{'Doc2.txt', 'Doc1.txt'}\n"
          ]
        }
      ],
      "source": [
        "print(AND_op(List1,List2))"
      ]
    },
    {
      "cell_type": "code",
      "execution_count": null,
      "metadata": {
        "id": "PpW96ejMLCg2"
      },
      "outputs": [],
      "source": [
        "from nltk.corpus import stopwords\n",
        "from nltk.tokenize  import  word_tokenize"
      ]
    },
    {
      "cell_type": "code",
      "execution_count": null,
      "metadata": {
        "id": "q3C3LfYFLsDp"
      },
      "outputs": [],
      "source": [
        "quote=\"Pythoners are very intelligent and work  vey pythonly and\"\n"
      ]
    },
    {
      "cell_type": "code",
      "execution_count": null,
      "metadata": {
        "colab": {
          "base_uri": "https://localhost:8080/"
        },
        "id": "4FPIheHuL3Gx",
        "outputId": "d01545a2-256a-46c5-9ac9-15219d5d47ea"
      },
      "outputs": [
        {
          "name": "stderr",
          "output_type": "stream",
          "text": [
            "[nltk_data] Downloading package punkt to /root/nltk_data...\n",
            "[nltk_data]   Unzipping tokenizers/punkt.zip.\n",
            "[nltk_data] Downloading package stopwords to /root/nltk_data...\n",
            "[nltk_data]   Unzipping corpora/stopwords.zip.\n"
          ]
        },
        {
          "data": {
            "text/plain": [
              "True"
            ]
          },
          "execution_count": 22,
          "metadata": {},
          "output_type": "execute_result"
        }
      ],
      "source": [
        "import nltk\n",
        "nltk.download('punkt')\n",
        "nltk.download(\"stopwords\")"
      ]
    },
    {
      "cell_type": "code",
      "execution_count": null,
      "metadata": {
        "colab": {
          "base_uri": "https://localhost:8080/"
        },
        "id": "8l1TvqRaMMWL",
        "outputId": "d272c160-df97-42c5-c996-384acfc5495d"
      },
      "outputs": [
        {
          "data": {
            "text/plain": [
              "['Pythoners',\n",
              " 'are',\n",
              " 'very',\n",
              " 'intelligent',\n",
              " 'and',\n",
              " 'work',\n",
              " 'vey',\n",
              " 'pythonly',\n",
              " 'and']"
            ]
          },
          "execution_count": 23,
          "metadata": {},
          "output_type": "execute_result"
        }
      ],
      "source": [
        "words=word_tokenize(quote)\n",
        "words"
      ]
    },
    {
      "cell_type": "code",
      "execution_count": null,
      "metadata": {
        "id": "wUw8LU10MVqJ"
      },
      "outputs": [],
      "source": [
        "stop_words=set(stopwords.words(\"english\"))"
      ]
    },
    {
      "cell_type": "code",
      "execution_count": null,
      "metadata": {
        "colab": {
          "base_uri": "https://localhost:8080/"
        },
        "id": "CMqOBcZLMiJw",
        "outputId": "2167f151-988c-4090-a93a-ba8619e1032f"
      },
      "outputs": [
        {
          "name": "stdout",
          "output_type": "stream",
          "text": [
            "{'myself', 'haven', 'so', 'it', \"didn't\", 'same', 'when', 'where', 'on', 'not', \"should've\", 'why', 'do', 'these', 'wasn', 'during', 'y', \"she's\", 'each', 'from', 'were', \"that'll\", 'there', 'being', 'your', 'too', 'hers', 'into', 'such', 'can', 'his', \"you'll\", 'all', \"it's\", 'did', 'o', 'as', 'll', \"hadn't\", 'off', \"don't\", 'been', 'had', 'of', 'just', 'while', \"shouldn't\", 'but', 'above', 'and', 'then', 'after', 'ours', 'should', \"wouldn't\", 'doing', 'very', 'have', 'didn', 'ma', 'we', 'by', 'shan', 'at', 'm', 'has', \"you'd\", \"shan't\", 'does', 'up', 'only', 'hadn', 'few', 'weren', 'before', 'below', 'most', 'again', 'down', 'now', \"couldn't\", 'our', 'needn', 'was', 'own', 'won', 'them', 'couldn', 'against', \"mightn't\", 'itself', 'about', 'my', 'whom', 'under', 're', 't', 'himself', \"mustn't\", 'their', \"won't\", 'her', 'having', 'he', \"wasn't\", 'themselves', 'out', 'hasn', 'him', 'an', 'if', 'once', 'for', 'what', 'will', 'until', 'here', 'any', 'yourselves', 's', 'doesn', \"you're\", \"isn't\", 'over', \"hasn't\", 'no', 'to', 'some', 'further', 'mustn', 'that', \"aren't\", 'are', 'or', 'wouldn', 'd', 'you', 'this', \"needn't\", 'am', 'a', 'because', 'aren', 'other', 'mightn', 'she', 'both', \"you've\", 'between', 'be', 'more', 'those', 'is', \"doesn't\", \"haven't\", 've', 'theirs', 'they', 'who', 'how', 'through', 'shouldn', 'yours', 'herself', 'its', 'me', 'ourselves', 'which', 'ain', 'i', 'nor', 'with', 'in', 'don', 'than', 'isn', \"weren't\", 'yourself', 'the'}\n"
          ]
        }
      ],
      "source": [
        "print(stop_words)"
      ]
    },
    {
      "cell_type": "code",
      "execution_count": null,
      "metadata": {
        "colab": {
          "base_uri": "https://localhost:8080/"
        },
        "id": "lku2I0IIMv_Q",
        "outputId": "345f37b3-1eb2-4c8b-c313-5e4da221ac5b"
      },
      "outputs": [
        {
          "name": "stdout",
          "output_type": "stream",
          "text": [
            "['Pythoners', 'intelligent', 'work', 'vey', 'pythonly']\n"
          ]
        }
      ],
      "source": [
        "filtered_list=[]\n",
        "for word in words:\n",
        "  if  word.casefold()  not in stop_words:\n",
        "    filtered_list.append(word)\n",
        "print(filtered_list)"
      ]
    },
    {
      "cell_type": "code",
      "execution_count": null,
      "metadata": {
        "colab": {
          "base_uri": "https://localhost:8080/"
        },
        "id": "nMu36tckNRip",
        "outputId": "33fd2bb2-e67c-427f-bdd3-80356519315f"
      },
      "outputs": [
        {
          "data": {
            "text/plain": [
              "['Pythoners', 'intelligent', 'work', 'vey', 'pythonly']"
            ]
          },
          "execution_count": 27,
          "metadata": {},
          "output_type": "execute_result"
        }
      ],
      "source": [
        "[word for word in words if word.casefold() not in stop_words]"
      ]
    },
    {
      "cell_type": "code",
      "execution_count": null,
      "metadata": {
        "id": "P1eCDravNisZ"
      },
      "outputs": [],
      "source": [
        "#Adding new words  to  the stop  words\n"
      ]
    },
    {
      "cell_type": "code",
      "execution_count": null,
      "metadata": {
        "id": "7cuYEX65Nn2B"
      },
      "outputs": [],
      "source": [
        "stop_words_new=list(stop_words)\n",
        "stop_words_new.extend([\"intelligent\",\"work\"])"
      ]
    },
    {
      "cell_type": "code",
      "execution_count": null,
      "metadata": {
        "colab": {
          "base_uri": "https://localhost:8080/"
        },
        "id": "JVaOEPy-N8b7",
        "outputId": "fd00d57b-aff0-4369-f991-3a8154c22e7b"
      },
      "outputs": [
        {
          "name": "stdout",
          "output_type": "stream",
          "text": [
            "['Pythoners', 'vey', 'pythonly']\n"
          ]
        }
      ],
      "source": [
        "filtered_list_new=[]\n",
        "for word in words:\n",
        "  if word.lower() not in stop_words_new:\n",
        "    filtered_list_new.append(word)\n",
        "print(filtered_list_new)"
      ]
    },
    {
      "cell_type": "code",
      "execution_count": null,
      "metadata": {
        "id": "WliL9DEkOUDt"
      },
      "outputs": [],
      "source": [
        "###Part (b) ###\n"
      ]
    },
    {
      "cell_type": "code",
      "execution_count": null,
      "metadata": {
        "id": "_TnfYQFlOYW2"
      },
      "outputs": [],
      "source": [
        "from nltk.stem import PorterStemmer\n",
        "from nltk.tokenize import word_tokenize"
      ]
    },
    {
      "cell_type": "code",
      "execution_count": null,
      "metadata": {
        "id": "83rZGm-uO1hK"
      },
      "outputs": [],
      "source": [
        "stemmer=PorterStemmer()\n"
      ]
    },
    {
      "cell_type": "code",
      "execution_count": null,
      "metadata": {
        "id": "jisB_5-LO8Wv"
      },
      "outputs": [],
      "source": [
        "quote=\"Pythoners  are very intelligent  and work very pythonly and now they are pyth\""
      ]
    },
    {
      "cell_type": "code",
      "execution_count": null,
      "metadata": {
        "id": "Ph7ET4F7PKNA"
      },
      "outputs": [],
      "source": [
        "words=word_tokenize(quote)"
      ]
    },
    {
      "cell_type": "code",
      "execution_count": null,
      "metadata": {
        "colab": {
          "base_uri": "https://localhost:8080/"
        },
        "id": "e5ui_Sy5PQvw",
        "outputId": "50c08895-083b-4eb0-d52f-a67009ccf24e"
      },
      "outputs": [
        {
          "data": {
            "text/plain": [
              "['a', 'n', 'd']"
            ]
          },
          "execution_count": 33,
          "metadata": {},
          "output_type": "execute_result"
        }
      ],
      "source": [
        "stemmed_words=[stemmer.stem(word) for word in word]\n",
        "stemmed_words"
      ]
    }
  ],
  "metadata": {
    "colab": {
      "provenance": []
    },
    "kernelspec": {
      "display_name": "Python 3",
      "name": "python3"
    },
    "language_info": {
      "codemirror_mode": {
        "name": "ipython",
        "version": 3
      },
      "file_extension": ".py",
      "mimetype": "text/x-python",
      "name": "python",
      "nbconvert_exporter": "python",
      "pygments_lexer": "ipython3",
      "version": "3.11.4"
    }
  },
  "nbformat": 4,
  "nbformat_minor": 0
}
